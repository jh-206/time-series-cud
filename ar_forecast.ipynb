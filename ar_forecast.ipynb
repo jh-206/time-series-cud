{
 "cells": [
  {
   "cell_type": "markdown",
   "id": "7b52a695-2be5-4338-986d-3093fb87499c",
   "metadata": {},
   "source": [
    "# Forecasting with AR Models"
   ]
  },
  {
   "cell_type": "markdown",
   "id": "8b14ee35-4b5a-4d72-9ef8-c76493e3c312",
   "metadata": {},
   "source": [
    "## Setup"
   ]
  },
  {
   "cell_type": "code",
   "execution_count": null,
   "id": "1f582846-b9f4-43e0-b6b9-891041bd7616",
   "metadata": {},
   "outputs": [],
   "source": [
    "import numpy as np\n",
    "import matplotlib.pyplot as plt\n",
    "from statsmodels.tsa.ar_model import AutoReg\n",
    "from sklearn.linear_model import LinearRegression\n",
    "from sklearn.metrics import r2_score, mean_squared_error"
   ]
  },
  {
   "cell_type": "markdown",
   "id": "d1b994ab-d3c4-4d5c-82e7-c56b9191ae79",
   "metadata": {},
   "source": [
    "## Sim Data\n",
    "\n",
    "Simulating a sine way with normally distributed error at each step. AR(1) model is not particularly appropriate for this, but this is just an illustration."
   ]
  },
  {
   "cell_type": "code",
   "execution_count": null,
   "id": "01e26dc5-336e-4b06-8250-daa25f9e5a69",
   "metadata": {},
   "outputs": [],
   "source": [
    "np.random.seed(111)\n",
    "\n",
    "# Simulation Parameters\n",
    "N = 100 # Number of points to sim\n",
    "mu = 0 # Random error mean\n",
    "sd = 0.2 # Random error std\n",
    "T = 4 # Period\n",
    "\n",
    "# Sim Data\n",
    "x = np.linspace(0, 5 * np.pi, N)\n",
    "y = np.sin(2 * np.pi / T * x) + np.random.normal(mu, sd, N)\n",
    "\n",
    "# Cross val parameters\n",
    "h2 = int(0.5 * N) # Time step when training ends, forecast begins"
   ]
  },
  {
   "cell_type": "code",
   "execution_count": null,
   "id": "c0b8819f-3a35-426b-befb-66faf2c325a6",
   "metadata": {},
   "outputs": [],
   "source": [
    "# Plot the result\n",
    "plt.plot(x, y)\n",
    "plt.xlabel('x')\n",
    "plt.ylabel('y')\n",
    "plt.axvline(x=x[h2], color='k', linestyle=\"dashed\", label='Forecast Start')\n",
    "# plt.legend()\n",
    "plt.show()"
   ]
  },
  {
   "cell_type": "markdown",
   "id": "1749007f-32f8-4606-a8d1-33265c6be1e7",
   "metadata": {},
   "source": [
    "## Fit AR Model\n",
    "\n",
    "We use `statsmodels` package and reproduce with typical linear regression from `sklearn`. \n",
    "\n",
    "*NOTE:* this software **does not** allow for weighted least squares nor custom loss functions.\n",
    "\n",
    "**Confirm:**\n",
    "* Does `statsmodels` use Yule-Walker? [Documentation](https://www.statsmodels.org/dev/generated/statsmodels.tsa.ar_model.AutoReg.html) says: \"Estimate an AR-X model using Conditional Maximum Likelihood (OLS).\"\n",
    "* Does `sklearn` `LinearRegression` use least-squares? [Documentaton](https://scikit-learn.org/stable/modules/generated/sklearn.linear_model.LinearRegression.html) says: \"From the implementation point of view, this is just plain Ordinary Least Squares (scipy.linalg.lstsq) or Non Negative Least Squares (scipy.optimize.nnls) wrapped as a predictor object.\""
   ]
  },
  {
   "cell_type": "markdown",
   "id": "03e9edd9-415a-495c-a67a-97a3eb7279fc",
   "metadata": {},
   "source": [
    "### Using Existing Software Tools\n",
    "\n",
    "`statsmodels.tsa.ar_model`"
   ]
  },
  {
   "cell_type": "code",
   "execution_count": null,
   "id": "a2cb87b3-3f8c-4dba-a8a8-b518434b2a85",
   "metadata": {},
   "outputs": [],
   "source": [
    "train = y[0:h2]\n",
    "ar = AutoReg(train, lags=1).fit()"
   ]
  },
  {
   "cell_type": "code",
   "execution_count": null,
   "id": "824fee68-9c88-4bde-be86-479c91c6f291",
   "metadata": {},
   "outputs": [],
   "source": [
    "ar.summary()"
   ]
  },
  {
   "cell_type": "code",
   "execution_count": null,
   "id": "28902775-1e1d-4a7b-aa19-947fa75ead14",
   "metadata": {},
   "outputs": [],
   "source": [
    "fitted_ar = ar.predict(start=1, end=len(train)-1)"
   ]
  },
  {
   "cell_type": "code",
   "execution_count": null,
   "id": "4e535afa-1185-482f-b715-72e73ea7f702",
   "metadata": {},
   "outputs": [],
   "source": [
    "plt.plot(x[:h2], y[:h2], label=\"True Data\")  # Full training data\n",
    "plt.plot(x[1:h2], fitted_ar, label=\"AR(1) Fitted\", linestyle=\"dashed\")  # Predictions start at y_1\n",
    "plt.xlabel(\"x\")\n",
    "plt.ylabel(\"y\")\n",
    "plt.legend()\n",
    "plt.show()"
   ]
  },
  {
   "cell_type": "code",
   "execution_count": null,
   "id": "4ebac727-e6f3-4419-b254-1bd151c5fd81",
   "metadata": {},
   "outputs": [],
   "source": [
    "r2_score(fitted_ar, train[1:])"
   ]
  },
  {
   "cell_type": "markdown",
   "id": "3e4a90e3-a173-4b27-b363-63cd37a262a7",
   "metadata": {},
   "source": [
    "### Manual Implementation\n",
    "\n",
    "`sklearn.linear_model.LinearRegression`\n",
    "\n",
    "*NOTE:* this software allows for weighted least squares nor custom loss functions.\n",
    "\n",
    "From the response data $y_t$ in the training period, get the lag-1 time series $y_{t-1}$ and fit in a linear regression with intercept:\n",
    "\n",
    "$$\n",
    "y_t = \\mu + \\theta y_{t-1} +\\epsilon\n",
    "$$\n",
    "\n",
    "Note: fitted values will start at time $t=1$ rather than time $t=0$ (counting from zero bc of python)"
   ]
  },
  {
   "cell_type": "code",
   "execution_count": null,
   "id": "249ead76-0c70-49db-ba57-2b027370d486",
   "metadata": {},
   "outputs": [],
   "source": [
    "ylag = train[:-1].reshape(-1, 1)"
   ]
  },
  {
   "cell_type": "code",
   "execution_count": null,
   "id": "4b0b43e4-75b6-4486-bc33-7520169e3a2a",
   "metadata": {},
   "outputs": [],
   "source": [
    "lm_ar = LinearRegression()\n",
    "lm_ar.fit(X=ylag, y=train[1:])"
   ]
  },
  {
   "cell_type": "code",
   "execution_count": null,
   "id": "e575a1f7-ff9b-4d45-91bd-d66f68fff20b",
   "metadata": {},
   "outputs": [],
   "source": [
    "lm_ar.coef_"
   ]
  },
  {
   "cell_type": "code",
   "execution_count": null,
   "id": "a9295921-b174-4924-aea3-3fe96e1e0b4b",
   "metadata": {},
   "outputs": [],
   "source": [
    "lm_ar.intercept_"
   ]
  },
  {
   "cell_type": "code",
   "execution_count": null,
   "id": "1c7e27a8-8099-41d0-be26-7a335c0ded72",
   "metadata": {},
   "outputs": [],
   "source": [
    "fitted_lm = lm_ar.predict(train[:-1].reshape(-1, 1))"
   ]
  },
  {
   "cell_type": "code",
   "execution_count": null,
   "id": "cc94f086-88b1-44b7-80ed-a2e80d129e43",
   "metadata": {},
   "outputs": [],
   "source": [
    "np.max(np.abs(fitted_lm - fitted_ar))"
   ]
  },
  {
   "cell_type": "code",
   "execution_count": null,
   "id": "d2d88417-afb6-45ae-a156-7d4571a25686",
   "metadata": {},
   "outputs": [],
   "source": []
  },
  {
   "cell_type": "markdown",
   "id": "46fea385-6335-4125-aeb7-dc53f72c4033",
   "metadata": {},
   "source": [
    "## Forecasting \n",
    "\n",
    "Predicting with model in future, aka **extrapolation in time**."
   ]
  },
  {
   "cell_type": "markdown",
   "id": "0f97494b-1d4e-43f8-afb8-e3777af8d891",
   "metadata": {},
   "source": [
    "### The Wrong Way\n",
    "\n",
    "Following the method for fitted the data, we take the time series $y_t$ in the forecast/test period and get the lag-1 version of it $y_{t-1}$, then predict with fitted coefs. Let $\\hat y_t$ be predicted model output at time $t$, $\\hat \\mu$ be the estimated intercept, and $\\hat \\theta$ be the estimated autoregressive coefficient.\n",
    "\n",
    "$$\n",
    "\\hat y_t = \\hat \\mu + \\hat \\theta y_{t-1}\n",
    "$$\n",
    "\n",
    "**Question: what is wrong with this approach to forecasting?**"
   ]
  },
  {
   "cell_type": "code",
   "execution_count": null,
   "id": "a34c041b-bb46-42b8-83b7-40b38602a4d9",
   "metadata": {},
   "outputs": [],
   "source": [
    "test = y[h2:]\n",
    "ylag2 = test[:-1].reshape(-1, 1)"
   ]
  },
  {
   "cell_type": "code",
   "execution_count": null,
   "id": "278c299a-9b33-4c92-bee4-9529fa9892c4",
   "metadata": {},
   "outputs": [],
   "source": [
    "preds0 = lm_ar.predict(train[:-1].reshape(-1, 1))"
   ]
  },
  {
   "cell_type": "code",
   "execution_count": null,
   "id": "5daaa334-3dce-4d5e-8d9d-902d5ecc1a65",
   "metadata": {},
   "outputs": [],
   "source": [
    "r2_score(preds0, test[1:])"
   ]
  },
  {
   "cell_type": "code",
   "execution_count": null,
   "id": "85d6b181-28d1-47cc-9393-1413e1ec10e0",
   "metadata": {},
   "outputs": [],
   "source": [
    "plt.plot(x, y)\n",
    "plt.plot(x[1:h2], fitted_lm, label=\"Fitted Values\")\n",
    "plt.plot(x[(h2+1):], preds0, label=\"'Forecasted' Values\")\n",
    "plt.xlabel('x')\n",
    "plt.ylabel('y')\n",
    "plt.axvline(x=x[h2], color='k', linestyle=\"dashed\", label='Forecast Start')\n",
    "plt.legend()\n",
    "plt.show()"
   ]
  },
  {
   "cell_type": "markdown",
   "id": "7eed7a63-0fe9-4514-bfab-299a17c7f086",
   "metadata": {},
   "source": [
    "### The Right Way\n",
    "\n",
    "**Explanation of Error Above:** instead of *forecasting* with the model, the real observed time series was used to generate a predicted time series. This information would not be available to you in a real-world context. What we showed above is something in between fitted values, where we predict observations that were used to fit model parameters, and true predictions, where we predict observations that are not used to inform the model parameters in any way. This is not the right way to perform forecasting, where the goal is to extrapolate in time to predict values that have not been observed yet.\n",
    "\n",
    "**How it Should be Done:**\n",
    "\n",
    "Iterative scheme where model output at time $t$ used to predict $t+1$:\n",
    "* Starting at first time of forecast period, predict $\\hat y_t$ using estimated coefs as above\n",
    "* Predict: $\\hat y_{t+1} = \\hat \\mu + \\hat \\theta \\hat y_{t}$\n",
    "\n",
    "Note: When forecasting with simple ARMA models with no external inputs, as is the case here, there is a tendency for the forecasts to decay to the estimated mean $\\hat \\mu$"
   ]
  },
  {
   "cell_type": "code",
   "execution_count": null,
   "id": "015dec56-3322-40c2-afc1-fa1241149829",
   "metadata": {},
   "outputs": [],
   "source": [
    "preds_ar = ar.predict(start=h2, end=len(y)-1)"
   ]
  },
  {
   "cell_type": "code",
   "execution_count": null,
   "id": "793f19bc-0851-4f33-8913-63e140df6de7",
   "metadata": {},
   "outputs": [],
   "source": [
    "plt.plot(x, y)\n",
    "plt.plot(x[1:h2], fitted_ar, label=\"Fitted Values\")\n",
    "plt.plot(x[h2:], preds_ar, label=\"Forecasted Values\")\n",
    "plt.xlabel('x')\n",
    "plt.ylabel('y')\n",
    "plt.axvline(x=x[h2], color='k', linestyle=\"dashed\", label='Forecast Start')\n",
    "plt.legend()\n",
    "plt.show()"
   ]
  },
  {
   "cell_type": "code",
   "execution_count": null,
   "id": "09fceeda-ab33-4c18-bf73-531dc8759628",
   "metadata": {},
   "outputs": [],
   "source": [
    "preds_lm = []\n",
    "pred_t_minus_1 = lm_ar.predict(train[-1].reshape(-1, 1))[0]\n",
    "preds_lm.append(pred_t_minus_1)\n",
    "for t in range(h2, len(y)-1):\n",
    "    pred_t_minus_1 = lm_ar.predict(np.array([[pred_t_minus_1]]))[0] \n",
    "    preds_lm.append(pred_t_minus_1)\n",
    "\n",
    "preds_lm = np.array(preds_lm)"
   ]
  },
  {
   "cell_type": "code",
   "execution_count": null,
   "id": "7f90f29b-f4f8-4541-86fa-7a4a96f6886b",
   "metadata": {},
   "outputs": [],
   "source": [
    "np.max(np.abs(preds_lm - preds_ar))"
   ]
  },
  {
   "cell_type": "code",
   "execution_count": null,
   "id": "5dcbce49-53c9-4a24-badd-251fdd06690e",
   "metadata": {},
   "outputs": [],
   "source": [
    "plt.plot(x, y)\n",
    "plt.plot(x[1:h2], fitted_lm, label = \"Fitted\")\n",
    "plt.plot(x[h2:], preds_lm, label = \"Forecast\")\n",
    "plt.legend()"
   ]
  },
  {
   "cell_type": "code",
   "execution_count": null,
   "id": "026a5c6c-ceda-44bd-9a10-eb035e448d10",
   "metadata": {},
   "outputs": [],
   "source": []
  },
  {
   "cell_type": "code",
   "execution_count": null,
   "id": "13528bcb-1e79-49a3-a21f-065b36f4cb5d",
   "metadata": {},
   "outputs": [],
   "source": []
  },
  {
   "cell_type": "code",
   "execution_count": null,
   "id": "30005433-1534-459d-9e4a-63e7c77a7aae",
   "metadata": {},
   "outputs": [],
   "source": []
  }
 ],
 "metadata": {
  "kernelspec": {
   "display_name": "Python 3 (ipykernel)",
   "language": "python",
   "name": "python3"
  },
  "language_info": {
   "codemirror_mode": {
    "name": "ipython",
    "version": 3
   },
   "file_extension": ".py",
   "mimetype": "text/x-python",
   "name": "python",
   "nbconvert_exporter": "python",
   "pygments_lexer": "ipython3",
   "version": "3.12.2"
  }
 },
 "nbformat": 4,
 "nbformat_minor": 5
}
