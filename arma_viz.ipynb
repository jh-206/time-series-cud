{
 "cells": [
  {
   "cell_type": "markdown",
   "id": "1ab17588-4115-416f-b410-f08089a6feeb",
   "metadata": {},
   "source": [
    "# Visualizations for ARMA Processes"
   ]
  },
  {
   "cell_type": "markdown",
   "id": "c225cb67-663e-41c7-a954-032cd5ad4bf4",
   "metadata": {},
   "source": [
    "## Setup"
   ]
  },
  {
   "cell_type": "code",
   "execution_count": null,
   "id": "c2ea4203-2f01-44b0-bdce-ef5d2fd02a2c",
   "metadata": {},
   "outputs": [],
   "source": [
    "from ts_tools import sim_arma, plot_ts, plt_acf\n",
    "import os.path as osp\n",
    "\n",
    "outpath = \"outputs\""
   ]
  },
  {
   "cell_type": "markdown",
   "id": "6417ac1f-6b53-4c6a-a9b0-a4209af5bec2",
   "metadata": {},
   "source": [
    "## White Noise Process"
   ]
  },
  {
   "cell_type": "code",
   "execution_count": null,
   "id": "71f07653-3247-498c-89d7-a057395d98fb",
   "metadata": {},
   "outputs": [],
   "source": [
    "z = sim_arma(n=1000)\n",
    "plot_ts(z, title=\"White Noise - Normal(0,1)\", save_path = osp.join(outpath, \"white_ts.png\"))"
   ]
  },
  {
   "cell_type": "code",
   "execution_count": null,
   "id": "f3555388-0de7-4fd1-8a37-e3defc0ca0a4",
   "metadata": {},
   "outputs": [],
   "source": [
    "plt_acf(z,  save_path = osp.join(outpath, \"white_acf.png\"), title=\"White Noise - ACF\")"
   ]
  },
  {
   "cell_type": "markdown",
   "id": "8251e204-8160-42ca-900a-30cbf1ac33ae",
   "metadata": {},
   "source": [
    "## AR Process"
   ]
  },
  {
   "cell_type": "code",
   "execution_count": null,
   "id": "f4111112-a8cb-4fe6-9b67-375024943c89",
   "metadata": {},
   "outputs": [],
   "source": [
    "x = sim_arma([1, -.8], None, n=1000)\n",
    "plot_ts(x, title=\"AR(1) Process\", save_path = osp.join(outpath, \"ar1.png\"))"
   ]
  },
  {
   "cell_type": "code",
   "execution_count": null,
   "id": "11f45c07-78f2-4b02-8664-6dc44201694b",
   "metadata": {},
   "outputs": [],
   "source": [
    "plt_acf(x,  save_path = osp.join(outpath, \"ar1_acf.png\"), title=\"AR(1) - ACF\")"
   ]
  },
  {
   "cell_type": "code",
   "execution_count": null,
   "id": "8aa19044-8d1d-44db-a347-221afe5d1555",
   "metadata": {},
   "outputs": [],
   "source": [
    "from statsmodels.graphics.tsaplots import plot_pacf"
   ]
  },
  {
   "cell_type": "code",
   "execution_count": null,
   "id": "d2c52af3-afcf-46ad-bf8b-a6faa5f94f04",
   "metadata": {},
   "outputs": [],
   "source": [
    "from ts_tools import plt_pacf"
   ]
  },
  {
   "cell_type": "code",
   "execution_count": null,
   "id": "8a0499f1-c88b-427c-87df-b93a44e2d14b",
   "metadata": {},
   "outputs": [],
   "source": [
    "plt_pacf(x,  save_path = osp.join(outpath, \"ar1_pacf.png\"), title=\"AR(1) - PACF\")"
   ]
  },
  {
   "cell_type": "code",
   "execution_count": null,
   "id": "cb5966f2-bb1f-42e6-93f0-5690340e658d",
   "metadata": {},
   "outputs": [],
   "source": []
  },
  {
   "cell_type": "markdown",
   "id": "0f3545aa-a24b-4479-9fc8-d86806ef5026",
   "metadata": {},
   "source": [
    "## MA Process"
   ]
  },
  {
   "cell_type": "code",
   "execution_count": null,
   "id": "7167208f-a2c7-4455-92e5-921f663e5ad3",
   "metadata": {},
   "outputs": [],
   "source": [
    "x = sim_arma(None, [1, .8, .8, .8], n=1000)\n",
    "plot_ts(x, title=\"MA(3) Process\", save_path = osp.join(outpath, \"ma3.png\"))"
   ]
  },
  {
   "cell_type": "code",
   "execution_count": null,
   "id": "6efba4f5-f01b-4f10-82c7-f10354c4310e",
   "metadata": {},
   "outputs": [],
   "source": [
    "plt_acf(x,  save_path = osp.join(outpath, \"ma3_acf.png\"), title=\"MA(3) - ACF\")"
   ]
  },
  {
   "cell_type": "code",
   "execution_count": null,
   "id": "b78b18dd-a692-401b-8852-838bc277c937",
   "metadata": {},
   "outputs": [],
   "source": []
  }
 ],
 "metadata": {
  "kernelspec": {
   "display_name": "Python 3 (ipykernel)",
   "language": "python",
   "name": "python3"
  },
  "language_info": {
   "codemirror_mode": {
    "name": "ipython",
    "version": 3
   },
   "file_extension": ".py",
   "mimetype": "text/x-python",
   "name": "python",
   "nbconvert_exporter": "python",
   "pygments_lexer": "ipython3",
   "version": "3.12.2"
  }
 },
 "nbformat": 4,
 "nbformat_minor": 5
}
