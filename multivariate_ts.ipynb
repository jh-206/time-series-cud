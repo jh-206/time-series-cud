{
 "cells": [
  {
   "cell_type": "markdown",
   "id": "2845d614-7fae-42eb-9430-9edaaa2fab74",
   "metadata": {},
   "source": [
    "# Multivariate Time Series Analysis\n"
   ]
  },
  {
   "cell_type": "code",
   "execution_count": null,
   "id": "f22742db-6e67-4be7-a458-b50ecb273519",
   "metadata": {},
   "outputs": [],
   "source": [
    "# Setup\n",
    "import numpy as np\n",
    "import matplotlib.pyplot as plt"
   ]
  },
  {
   "cell_type": "markdown",
   "id": "6f1b3678-5887-45ca-99c8-5039758da0d0",
   "metadata": {},
   "source": [
    "## Vector White Noise"
   ]
  },
  {
   "cell_type": "markdown",
   "id": "264083ba-e2da-4b65-8534-d8a83de90972",
   "metadata": {},
   "source": [
    "For $m=2$ timeseries in our vector ensemble:\n",
    "\n",
    "$$\n",
    "z^{(1)}_t = \\epsilon^{(1)}_t\n",
    "$$\n",
    "\n",
    "$$\n",
    "z^{(2)}_t = \\epsilon^{(2)}_t\n",
    "$$"
   ]
  },
  {
   "cell_type": "code",
   "execution_count": null,
   "id": "62b590f5-0b8e-428b-8749-b86b61a5fdf8",
   "metadata": {},
   "outputs": [],
   "source": [
    "N = 100 # number of timesteps\n",
    "m = 3 # number of timeseries\n",
    "mu = np.zeros(m) # vector of means\n",
    "Sigma = np.array([[1.0, 0.8, 0.5], \n",
    "                  [0.8, 1.0, 0.3], \n",
    "                  [0.5, 0.3, 1.0]]) # covariance matrix\n",
    "\n",
    "np.random.seed(123)\n",
    "X = np.random.multivariate_normal(mu, Sigma, size=N)"
   ]
  },
  {
   "cell_type": "code",
   "execution_count": null,
   "id": "2b81d460-e247-4a1e-bee5-449d66a87913",
   "metadata": {},
   "outputs": [],
   "source": [
    "print(X.shape)"
   ]
  },
  {
   "cell_type": "code",
   "execution_count": null,
   "id": "c79a0731-28ff-42c2-a9e9-4d163772b126",
   "metadata": {},
   "outputs": [],
   "source": [
    "fig, axes = plt.subplots(1, 3, figsize=(12, 4), sharex=True)\n",
    "\n",
    "# Plot each time series in a separate subplot\n",
    "for i in range(m):\n",
    "    axes[i].plot(X[:, i])\n",
    "    axes[i].set_title(f\"Series {i+1}\")\n",
    "\n",
    "# Display the plot\n",
    "plt.tight_layout()\n",
    "plt.show()"
   ]
  },
  {
   "cell_type": "code",
   "execution_count": null,
   "id": "6a065ba1-bbc7-4093-8241-4ae5a0d16892",
   "metadata": {},
   "outputs": [],
   "source": [
    "plt.title(f\"Series 1 and Series 2, Covariance {Sigma[0,1]}\")\n",
    "plt.scatter(X[:, 0], X[:, 1])"
   ]
  },
  {
   "cell_type": "code",
   "execution_count": null,
   "id": "0005ecb6-8e1a-4f3c-84cf-c48aa809d8b9",
   "metadata": {},
   "outputs": [],
   "source": [
    "plt.title(f\"Series 1 and Series 3, Covariance {Sigma[0,2]}\")\n",
    "plt.scatter(X[:, 0], X[:, 2])"
   ]
  },
  {
   "cell_type": "markdown",
   "id": "4d799bba-62ed-4f43-9fe2-6d01fa638987",
   "metadata": {},
   "source": [
    "## Connection to Differentiation\n",
    "\n",
    "**Forward Euler Approximation to Derivative:** for time step $h$\n",
    "\n",
    "$$\n",
    "\\frac{y_{t+h} - y_{t}}{h}\\approx \\frac{dy}{dt}\n",
    "$$\n",
    "\n",
    "For exactly linear functions, this approximation is exact. Consider $h=1$ and the linear function $y=t$, so $\\frac{dy}{dt} = 1$"
   ]
  },
  {
   "cell_type": "code",
   "execution_count": null,
   "id": "b611ed4e-6547-4cf0-b978-577dbd25b93a",
   "metadata": {},
   "outputs": [],
   "source": [
    "t = np.arange(20)\n",
    "y = x.copy()\n",
    "y2 = np.diff(y, 1)\n",
    "\n",
    "plt.plot(t, y, label=\"y=x\")\n",
    "plt.plot(t[1:], y2, label=\"First Difference\")\n",
    "plt.plot(t, np.repeat(1, len(t)), 'g--', alpha=.3, label=\"y=1\")\n",
    "plt.legend()"
   ]
  },
  {
   "cell_type": "code",
   "execution_count": null,
   "id": "2fa4e339-50fa-43d7-9f9c-0c34f4b852d0",
   "metadata": {},
   "outputs": [],
   "source": [
    "y2"
   ]
  },
  {
   "cell_type": "markdown",
   "id": "e66a7f1e-9b1a-429a-a917-73e3e4dccf9c",
   "metadata": {},
   "source": [
    "## VAR(p)\n",
    "\n",
    "Vector autoregression of order $p$"
   ]
  },
  {
   "cell_type": "markdown",
   "id": "559a3d4e-9349-4352-a74f-a53e33cf07a3",
   "metadata": {},
   "source": [
    "Multivariate time series $\\pmb Z_t$, with $k$ components of length $N$:\n",
    "\n",
    "$$\n",
    "\\pmb Z_t = \n",
    "\\begin{pmatrix} \n",
    "z_1^{(1)} & z_2^{(1)} & \\dots & z_N^{(1)} \\\\ \n",
    "\\vdots    & \\vdots & \\ddots & \\vdots   \\\\\n",
    "z_1^{(k)} & z_2^{(k)} & \\dots & z_N^{(k)} \\\\ \n",
    "\\end{pmatrix}\n",
    "$$"
   ]
  },
  {
   "cell_type": "markdown",
   "id": "be4e2fbc-f71f-441a-92d1-7ac3020f20c6",
   "metadata": {},
   "source": [
    "Mean vector $\\pmb \\mu$, $k\\times 1$:\n",
    "$$\n",
    "\\begin{pmatrix} \\mu^{(1)} \\\\ \\vdots \\\\ \\mu^{(k)}\\end{pmatrix}\n",
    "$$"
   ]
  },
  {
   "cell_type": "markdown",
   "id": "8f27c742-d68d-4af9-9290-5d28fa9d2806",
   "metadata": {},
   "source": [
    "Process defined by:\n",
    "\n",
    "$$\n",
    "(\\pmb Z_t - \\pmb\\mu) = \\sum_{j=1}^p \\pmb\\Phi_j(\\pmb Z_{t-j}-\\pmb \\mu) + \\pmb a_j\n",
    "$$\n",
    "\n",
    "For vector white noise process $\\pmb a_t$ with covariance matrix $\\pmb \\Sigma$"
   ]
  },
  {
   "cell_type": "code",
   "execution_count": null,
   "id": "3e4dc8e3-f253-4714-8287-aab29ec9fa3f",
   "metadata": {},
   "outputs": [],
   "source": []
  },
  {
   "cell_type": "markdown",
   "id": "977bfaa6-3f55-4441-a94c-289047a4d666",
   "metadata": {},
   "source": [
    "### Special Case: VAR(1)\n",
    "\n",
    "$$\n",
    "\\pmb Z_t = \\pmb\\Phi \\pmb Z_{t-1}+\\pmb a_t\n",
    "$$\n",
    "\n",
    "Assume mean vector $\\pmb \\mu$ is zero for convenience. Suppose $k=2$:\n",
    "\n",
    "$$\n",
    "\\pmb Z_t = \n",
    "\\begin{bmatrix} \n",
    "\\phi^{(11)} \\phi^{(12)} \\\\\n",
    "\\phi^{(22)} \\phi^{(22)}\n",
    "\\end{bmatrix} \\pmb Z_t + \n",
    "\\begin{bmatrix} a_t^{(1)} \\\\ a_t^{(2)}\\end{bmatrix}\n",
    "$$\n",
    "\n",
    "So, written individually\n",
    "\n",
    "$$\n",
    "z_t^{(1)} = \\phi^{(11)} z_{t-1}^{(1)} + \\phi^{(12)} z_{t-1}^{(2)} + a_t^{(1)}\n",
    "$$\n",
    "\n",
    "$$\n",
    "z_t^{(2)} = \\phi^{(21)} z_{t-1}^{(1)} + \\phi^{(22)} z_{t-1}^{(2)} + a_t^{(2)}\n",
    "$$"
   ]
  },
  {
   "cell_type": "markdown",
   "id": "d27c4db7-dc4a-4dee-8ce6-7f9d8764b583",
   "metadata": {},
   "source": [
    "Parameter Interpretation:\n",
    "\n",
    "* $\\phi^{11}, \\phi^{22}$: dependence of time series on its own past\n",
    "* $\\phi^{12}, \\phi^{21}$: dependence of time series on other individual components\n",
    "    * If non-zero, there is a feedback relationship between components\n",
    "    * If zero, no dynamic correlation between components.\n",
    "        * Contemporaneously correlated if $\\pmb \\Sigma$ is non-diagonal\n",
    "        * Uncorrelated if $\\pmb \\Sigma$ is diagonal"
   ]
  },
  {
   "cell_type": "markdown",
   "id": "643acad0-848e-4c9e-b105-d291f032b18f",
   "metadata": {},
   "source": [
    "## Modeling Options\n",
    "\n",
    "Different model specifications have different physical meanings."
   ]
  },
  {
   "cell_type": "markdown",
   "id": "1421863a-1d1c-4e5d-a8a9-2d5ca63b43f9",
   "metadata": {},
   "source": [
    "### Shared Parameters, no vector components\n",
    "\n",
    "A single ARX model: $z_t = \\sum_{j=1}^p a_j z_{t-j} + \\pmb \\beta \\pmb X + \\epsilon_t, \\quad \\epsilon_t \\sim N(0, \\sigma^2)$\n",
    "\n",
    "**Meaning**: independent realizations of the same process. Different external inputs are main drivers of differences between time series\n",
    "\n",
    "**Pros**: simple, can train parameters on one set of time series and use them to forecast time series at unobserved locations. \n",
    "\n",
    "**Cons**: can't model direct interactions between response components, fixed random error for each time series may be unreasonable. "
   ]
  },
  {
   "cell_type": "markdown",
   "id": "85c97697-65ef-4f17-a815-570cfb0130e8",
   "metadata": {},
   "source": [
    "### Shared ARX parameters, vector errors\n",
    "\n",
    "Modify the random error of the ARX model: $z_t = \\sum_{j=1}^p a_j z_{t-j} + \\pmb \\beta \\pmb X + \\pmb \\epsilon_t, \\quad \\epsilon_t \\sim N(\\pmb 0, \\pmb\\Sigma)$\n",
    "\n",
    "**Meaning**: deterministic dynamics are independent, but random errors are related. \n",
    "\n",
    "Subcases:\n",
    "* Diagonal covariance matrix, $\\pmb \\Sigma$ is diagonal and $\\pmb \\epsilon_t = [\\epsilon^{(1)}_t ,\\dots, \\epsilon^{(k)}_t]^T$. Means each time series has its own intrinsic error variance. This could make sense for different sensors at different locations that have potentially degraded over time or have different rates of error for whatever reason\n",
    "* Non-diagonal covariance matrix: errors dependent at each instant. This makes sense with shared external inputs. A shared forecast error for the temperature, for example, might lead to correlated errors across locations.\n",
    "\n",
    "\n",
    "**Cons**: can't model direct interactions between response components. Fixing dimensionality of error covariance means you can't easily apply a trained model to new locations"
   ]
  },
  {
   "cell_type": "markdown",
   "id": "bb80ab6e-1fb7-4ac5-9835-8d84d249f29f",
   "metadata": {},
   "source": [
    "### Full VARX\n",
    "\n",
    "$$\n",
    "\\pmb Z_t = \\mu + \\pmb A_1 \\pmb Z_{t-1} + \\dots + \\pmb A_p \\pmb Z_{t-p} + \\pmb \\epsilon_t, \\quad \\pmb \\epsilon_t\\sim N(\\pmb 0, \\pmb \\Sigma)\n",
    "$$\n",
    "\n",
    "**Meaning**: future for one time series directly depends on it's own history and the history at other locations.\n",
    "\n",
    "**Pros:** you could use this construction with lagged external inputs like the weather.\n",
    "\n",
    "**Cons**: Fixing dimensionality of error covariance means you can't easily apply a trained model to new locations"
   ]
  },
  {
   "cell_type": "code",
   "execution_count": null,
   "id": "2e1b91e1-caac-40b6-b856-b113c05a701d",
   "metadata": {},
   "outputs": [],
   "source": []
  },
  {
   "cell_type": "code",
   "execution_count": null,
   "id": "c0d66201-9f0b-4599-8b10-444f85efe6dc",
   "metadata": {},
   "outputs": [],
   "source": []
  },
  {
   "cell_type": "code",
   "execution_count": null,
   "id": "c86130bc-b298-4349-a83a-fd2a370fbb02",
   "metadata": {},
   "outputs": [],
   "source": []
  },
  {
   "cell_type": "code",
   "execution_count": null,
   "id": "d947671a-f590-4738-b05c-e19babb5fcc9",
   "metadata": {},
   "outputs": [],
   "source": []
  },
  {
   "cell_type": "code",
   "execution_count": null,
   "id": "ec1dca22-ff52-4a23-afe2-27581da2f201",
   "metadata": {},
   "outputs": [],
   "source": []
  }
 ],
 "metadata": {
  "kernelspec": {
   "display_name": "Python 3 (ipykernel)",
   "language": "python",
   "name": "python3"
  },
  "language_info": {
   "codemirror_mode": {
    "name": "ipython",
    "version": 3
   },
   "file_extension": ".py",
   "mimetype": "text/x-python",
   "name": "python",
   "nbconvert_exporter": "python",
   "pygments_lexer": "ipython3",
   "version": "3.12.2"
  }
 },
 "nbformat": 4,
 "nbformat_minor": 5
}
